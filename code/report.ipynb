{
    "cells": [
        {
            "cell_type": "code",
            "metadata": {},
            "source": [
                "# | include: False\n",
                "\n",
                "# Bibliothken importieren\n",
                "import pandas as pd\n",
                "import altair as alt\n",
                "from urllib import request\n",
                "import json"
            ],
            "execution_count": null,
            "outputs": []
        },
        {
            "cell_type": "code",
            "metadata": {},
            "source": [
                "# | include: False\n",
                "\n",
                "# Deutsche Formatvorlagen für Altair laden\n",
                "with request.urlopen('https://raw.githubusercontent.com/d3/d3-format/master/locale/de-DE.json') as f:\n",
                "    de_format = json.load(f)\n",
                "with request.urlopen('https://raw.githubusercontent.com/d3/d3-time-format/master/locale/de-DE.json') as f:\n",
                "    de_time_format = json.load(f)\n",
                "\n",
                "alt.renderers.set_embed_options(\n",
                "    formatLocale=de_format, timeFormatLocale=de_time_format)"
            ],
            "execution_count": null,
            "outputs": []
        },
        {
            "cell_type": "code",
            "metadata": {},
            "source": [
                "# | include: False\n",
                "\n",
                "# Daten einlesen und vorbereiten\n",
                "\n",
                "# Daten importieren\n",
                "df = pd.read_csv(\n",
                "    \"https://raw.githubusercontent.com/kirenz/datasets/master/facebook-ad-data.csv\", decimal=',')\n",
                "\n",
                "# Relevante numerische Kennzahlen auswählen\n",
                "KENNZAHLEN = ['Ausgegebener Betrag (EUR)', 'Reichweite', 'Impressionen', 'Kosten pro 1.000 erreichten Personen (EUR)', 'CPM (Kosten pro 1.000 Impressionen) (EUR)', 'Beitragsinteraktionen', 'Geteilte Beiträge', 'Beitragskommentare', 'CTR (Link-Klickrate)', 'CPC (alle) (EUR)', 'Ergebnisrate' ] \n",
                "\n",
                "# Neue Liste mit allen relevanten Variablen\n",
                "VARIABLEN = KENNZAHLEN + ['Plattform', 'Id']\n",
                "\n",
                "# Auswahl der Variablen\n",
                "df = df[VARIABLEN]\n",
                "\n",
                "# Daten anpassen\n",
                "df['Plattform'] = df['Plattform'].astype('category')\n",
                "\n",
                "INTEGER = ['Impressionen', 'Reichweite', 'Beitragsinteraktionen', 'Geteilte Beiträge', 'Beitragskommentare' ]\n",
                "\n",
                "for i in INTEGER:\n",
                "    df[i] = df[i].astype('Int64')\n",
                "\n",
                "# Auswahl der relevanten Plattform \n",
                "PLATTFORM = 'Facebook'\n",
                "df_mean = df.groupby('Plattform')[KENNZAHLEN].median().reset_index()\n",
                "df_mean = df_mean[df_mean['Plattform'] == PLATTFORM ]\n",
                "df_mean[\"Id\"] = 'Median' \n",
                "\n",
                "\n",
                "# Auswahl der Kampagne(n) anhand der Id\n",
                "KAMPAGNEN = [344]\n",
                "df = df[df['Id'].isin(KAMPAGNEN)]\n",
                "\n",
                "# Dataframes zusammenführen\n",
                "df = pd.concat([df, df_mean], ignore_index=True)\n",
                "\n",
                "# Daten als Prozent anzeigen\n",
                "df['CTR (Link-Klickrate)'] = df['CTR (Link-Klickrate)'].map('{:.2%}'.format)\n",
                "df['Ergebnisrate'] = df['Ergebnisrate'].map('{:.2%}'.format)    "
            ],
            "execution_count": null,
            "outputs": []
        },
        {
            "cell_type": "code",
            "metadata": {},
            "source": [
                "# Eingabe von Kennzahlen aus Meta\n",
                "TOTAL_FOLLOWERS = 400000\n",
                "NEW_NET_FOLLOWERS = 250\n",
                "TOTAL_AUDIENCE = 10000000"
            ],
            "execution_count": null,
            "outputs": []
        },
        {
            "cell_type": "code",
            "metadata": {},
            "source": [
                "# Berechnung einiger Kennzahlen\n",
                "\n",
                "# AWARENESS KENNZAHLEN\n",
                "PUBLIKUMS_WACHSTUMSRATE = (NEW_NET_FOLLOWERS / TOTAL_AUDIENCE) \n",
                "POST_REICHWEITE = (df['Reichweite'].sum() / TOTAL_FOLLOWERS) \n",
                "\n",
                "# ENGAGEMENT KENNZAHLEN\n",
                "DURCH_ENGAGEMENT = (df['Beitragsinteraktionen'].sum() / TOTAL_FOLLOWERS) \n",
                "AMPLIFIKATION = (df['Geteilte Beiträge'].sum() / TOTAL_FOLLOWERS) \n",
                "KONVERSATION = (df['Beitragskommentare'].sum() / TOTAL_FOLLOWERS)"
            ],
            "execution_count": null,
            "outputs": []
        },
        {
            "cell_type": "code",
            "metadata": {},
            "source": [
                "# Funktion für das Ausgabeformat der Pandas-Tabellen\n",
                "def make_pretty(styler):\n",
                "    styler.format(precision=0, thousands=\".\", decimal=\",\").hide_index()\n",
                "    return styler"
            ],
            "execution_count": null,
            "outputs": []
        },
        {
            "cell_type": "markdown",
            "metadata": {},
            "source": [
                "# Einführung    \n",
                "\n",
                "## Ausgangssituation\n",
                "\n",
                "*Aktuelle Situation. Weshalb wurde die Kampagne erstellt?* \n",
                "\n",
                "## Kampagnenziele\n",
                "\n",
                "*Ziele der Kampagne*\n",
                "\n",
                "## Zielgruppe\n",
                "\n",
                "![](../images/user-persona.png)\n",
                "\n",
                "## Kampagnenüberblick {.smaller}\n",
                "\n",
                "![](../images/facebook-ad-hello.png)\n",
                "\n",
                "*Beispiele für Werbeanzeigen, Bilder, Videos oder Texte.*\n",
                "*Erklärung, warum diese Inhalte ausgewählt wurden und wie sie zur Zielgruppe passen.*\n",
                "\n",
                "\n",
                "## Budget und Zeitraum {.smaller}\n",
                "\n",
                "- Gesamtbudget für die Kampagne.\n",
                "- Tägliches Budget oder Budgetverteilung.\n",
                "- Zeitraum der Kampagne.\n",
                "- Art der Werbeanzeigen (z.B. Video, Bild, Karussell).\n",
                "- Platzierung der Anzeigen (z.B. News Feed, Stories, rechte Spalte).\n",
                "\n",
                "# Kampagnen-Erfolgsübersicht\n",
                "\n",
                "\n",
                "## Awareness {.smaller}\n",
                "\n",
                "<br>\n",
                "\n",
                ""
            ]
        },
        {
            "cell_type": "code",
            "metadata": {},
            "source": [
                "# | label: awareness\n",
                "df[['Id', 'Ausgegebener Betrag (EUR)', 'Reichweite', 'Impressionen', 'Kosten pro 1.000 erreichten Personen (EUR)', 'CPM (Kosten pro 1.000 Impressionen) (EUR)']].round(\n",
                "    0).style.pipe(make_pretty)"
            ],
            "execution_count": null,
            "outputs": []
        },
        {
            "cell_type": "markdown",
            "metadata": {},
            "source": [
                "<br>\n",
                "\n",
                ""
            ]
        },
        {
            "cell_type": "code",
            "metadata": {},
            "source": [
                "# | label: publikum-wachstum\n",
                "print(f'Publikums-Wachstumsrate: {PUBLIKUMS_WACHSTUMSRATE:.5%}')"
            ],
            "execution_count": null,
            "outputs": []
        },
        {
            "cell_type": "markdown",
            "metadata": {},
            "source": [
                ""
            ]
        },
        {
            "cell_type": "code",
            "metadata": {},
            "source": [
                "# | label: post-reichweite\n",
                "print(f'Post-Reichweite: {POST_REICHWEITE:.2%}')"
            ],
            "execution_count": null,
            "outputs": []
        },
        {
            "cell_type": "markdown",
            "metadata": {},
            "source": [
                "## Engagement {.smaller}\n",
                "\n",
                "<br>\n",
                "\n",
                ""
            ]
        },
        {
            "cell_type": "code",
            "metadata": {},
            "source": [
                "# | label: engagement\n",
                "df[['Id', 'Beitragsinteraktionen', 'Geteilte Beiträge', 'Beitragskommentare']].round(\n",
                "    0).style.pipe(make_pretty)"
            ],
            "execution_count": null,
            "outputs": []
        },
        {
            "cell_type": "markdown",
            "metadata": {},
            "source": [
                "<br>\n",
                "\n",
                "\n",
                ""
            ]
        },
        {
            "cell_type": "code",
            "metadata": {},
            "source": [
                "# | label: durch-engagement\n",
                "print(f'Durchschnittliches Engagement: {DURCH_ENGAGEMENT:.2%}')"
            ],
            "execution_count": null,
            "outputs": []
        },
        {
            "cell_type": "markdown",
            "metadata": {},
            "source": [
                ""
            ]
        },
        {
            "cell_type": "code",
            "metadata": {},
            "source": [
                "# | label: amplifikations-rate\n",
                "print(f'Amplifikations-Rate: {AMPLIFIKATION:.2%}')"
            ],
            "execution_count": null,
            "outputs": []
        },
        {
            "cell_type": "markdown",
            "metadata": {},
            "source": [
                ""
            ]
        },
        {
            "cell_type": "code",
            "metadata": {},
            "source": [
                "# | label: konversations-rate\n",
                "print(f'Konversations-Rate: {KONVERSATION:.2%}')"
            ],
            "execution_count": null,
            "outputs": []
        },
        {
            "cell_type": "code",
            "metadata": {},
            "source": [
                "# | label: conversion\n",
                "df[['Id', 'CTR (Link-Klickrate)', 'CPC (alle) (EUR)', 'Ergebnisrate']].round(2).style.format(precision=2, thousands=\".\", decimal=\",\").hide_index()"
            ],
            "execution_count": null,
            "outputs": []
        }
    ],
    "metadata": {
        "kernelspec": {
            "name": "python3",
            "language": "python",
            "display_name": "Python 3 (ipykernel)"
        }
    },
    "nbformat": 4,
    "nbformat_minor": 4
}