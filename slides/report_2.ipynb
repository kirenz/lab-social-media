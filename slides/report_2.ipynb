{
  "cells": [
    {
      "cell_type": "raw",
      "metadata": {},
      "source": [
        "---\n",
        "title: \"Social Media Report\"\n",
        "lang: de\n",
        "subtitle: \"Winterkampagne 2023\"\n",
        "execute:\n",
        "  echo: false \n",
        "  warning: false\n",
        "format:\n",
        "  revealjs: \n",
        "    theme: simple\n",
        "    css: custom-styles.css \n",
        "---"
      ],
      "id": "0ae5dd81"
    },
    {
      "cell_type": "code",
      "metadata": {},
      "source": [
        "# | include: False\n",
        "# Deutsche Formatvorlagen für Altair laden\n",
        "\n",
        "# Bibliothken importieren\n",
        "import my_code.py"
      ],
      "id": "0b11200a",
      "execution_count": null,
      "outputs": []
    },
    {
      "cell_type": "markdown",
      "metadata": {},
      "source": [
        "# Einführung    \n",
        "\n",
        "## Ausgangssituation\n",
        "\n",
        "*Aktuelle Situation. Weshalb wurde die Kampagne erstellt?* \n",
        "\n",
        "## Kampagnenziele\n",
        "\n",
        "*Konkrete Ziele der Kampagne (SMART)*\n",
        "\n",
        "## Zielgruppe\n",
        "\n",
        "![](../images/user-persona.png)\n",
        "\n",
        "## Kampagnenüberblick\n",
        "\n",
        "![](../images/facebook-ad-hello.png)\n",
        "\n",
        "*Beispiele für Werbeanzeigen, Bilder, Videos oder Texte.*\n",
        "*Erklärung, warum diese Inhalte ausgewählt wurden und wie sie zur Zielgruppe passen.*\n",
        "\n",
        "\n",
        "## Budget und Zeitraum\n",
        "\n",
        "- Gesamtbudget für die Kampagne.\n",
        "- Tägliches Budget oder Budgetverteilung.\n",
        "- Zeitraum der Kampagne.\n",
        "- Art der Werbeanzeigen (z.B. Video, Bild, Karussell).\n",
        "- Platzierung der Anzeigen (z.B. News Feed, Stories, rechte Spalte).\n",
        "\n",
        "# Kampagnen-Erfolgsübersicht\n",
        "\n",
        "\n",
        "## Reichweite\n"
      ],
      "id": "9e7c56e3"
    },
    {
      "cell_type": "code",
      "metadata": {},
      "source": [
        "df[['Ausgegebener Betrag (EUR)', 'Reichweite', 'Kosten pro 1.000 erreichten Personen (EUR)']].sort_values(\n",
        "    by=['Reichweite'], ascending=False).round(0).style.pipe(make_pretty)"
      ],
      "id": "02748b0d",
      "execution_count": null,
      "outputs": []
    },
    {
      "cell_type": "markdown",
      "metadata": {},
      "source": [
        "## Impressionen\n"
      ],
      "id": "2bd24e22"
    },
    {
      "cell_type": "code",
      "metadata": {},
      "source": [
        "df[['Ausgegebener Betrag (EUR)', 'Impressionen', 'CPM (Kosten pro 1.000 Impressionen) (EUR)']].sort_values(\n",
        "    by=['Impressionen'], ascending=False).round(0).style.pipe(make_pretty)"
      ],
      "id": "b1af054f",
      "execution_count": null,
      "outputs": []
    },
    {
      "cell_type": "code",
      "metadata": {},
      "source": [
        "df[['Reichweite', 'Impressionen', 'Seiteninteraktionen', '„Gefällt mir“-Angaben für Seite', 'Beitragsreaktionen']].sort_values(\n",
        "    by=['Reichweite'], ascending=False).round(0).style.pipe(make_pretty)"
      ],
      "id": "e61d61c7",
      "execution_count": null,
      "outputs": []
    },
    {
      "cell_type": "markdown",
      "metadata": {},
      "source": [
        "## Gesamtübersicht\n"
      ],
      "id": "1d312b3d"
    },
    {
      "cell_type": "code",
      "metadata": {},
      "source": [
        "df.groupby('Plattform')[['Reichweite', 'Impressionen']\n",
        "                        ].sum().sort_values(by=['Reichweite'], ascending=False).round(0).style.pipe(make_pretty)\n"
      ],
      "id": "aac40dc2",
      "execution_count": null,
      "outputs": []
    },
    {
      "cell_type": "markdown",
      "metadata": {},
      "source": [
        "## Durchschnittliche Impressionen\n"
      ],
      "id": "d67ef464"
    },
    {
      "cell_type": "code",
      "metadata": {},
      "source": [
        "df_mean = (\n",
        "    df.groupby(\"Plattform\")[\"Impressionen\"].mean().rename(\n",
        "        \"mean_imp\").reset_index()\n",
        ")\n",
        "\n",
        "\n",
        "chart = alt.Chart(df_mean).mark_bar().encode(\n",
        "    x=alt.X('mean_imp').axis(\n",
        "        title=\"Durchschnittliche Impressionen\",\n",
        "        titleAnchor=\"start\"),\n",
        "    y=alt.Y('Plattform', sort='-x').axis(title=None)\n",
        ").properties(\n",
        "    width=850,\n",
        "    height=450\n",
        ").configure_axis(\n",
        "    labelFontSize=16,\n",
        "    titleFontSize=20,\n",
        "    grid=False\n",
        ").configure_view(strokeOpacity=0)\n",
        "\n",
        "chart"
      ],
      "id": "97a740de",
      "execution_count": null,
      "outputs": []
    }
  ],
  "metadata": {
    "kernelspec": {
      "name": "python3",
      "language": "python",
      "display_name": "Python 3 (ipykernel)"
    }
  },
  "nbformat": 4,
  "nbformat_minor": 5
}